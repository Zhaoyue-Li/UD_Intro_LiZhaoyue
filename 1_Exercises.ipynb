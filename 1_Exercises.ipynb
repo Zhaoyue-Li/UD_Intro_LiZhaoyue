{
 "cells": [
  {
   "cell_type": "markdown",
   "id": "38e188a5",
   "metadata": {},
   "source": [
    "# Exercise 00\n",
    "Write a piece of code that allocates a list of 20 integers and initializes each element by its index multiplied by 5. Print the result."
   ]
  },
  {
   "cell_type": "code",
   "execution_count": 1,
   "id": "01aa4f35",
   "metadata": {},
   "outputs": [
    {
     "name": "stdout",
     "output_type": "stream",
     "text": [
      "5\n",
      "10\n",
      "15\n",
      "20\n",
      "25\n",
      "30\n",
      "35\n",
      "40\n",
      "45\n",
      "50\n",
      "55\n",
      "60\n",
      "65\n",
      "70\n",
      "75\n",
      "80\n",
      "85\n",
      "90\n",
      "95\n",
      "100\n"
     ]
    }
   ],
   "source": [
    "list1 = list(range(1,21))\n",
    "for integer in list1:\n",
    "    result = integer * 5\n",
    "    print(result)"
   ]
  },
  {
   "cell_type": "markdown",
   "id": "529d91ae",
   "metadata": {},
   "source": [
    "# Exercise 01\n",
    "Define a function that takes an integer as input, prints  all integers that it is divisable by, and returns the largest one."
   ]
  },
  {
   "cell_type": "code",
   "execution_count": 7,
   "id": "30e79132",
   "metadata": {},
   "outputs": [
    {
     "name": "stdout",
     "output_type": "stream",
     "text": [
      "please give a dividend: 56\n",
      "1\n",
      "2\n",
      "4\n",
      "7\n",
      "8\n",
      "14\n",
      "28\n",
      "28\n"
     ]
    }
   ],
   "source": [
    "dividend = int(input(\"please give a dividend: \"))\n",
    "List = []\n",
    "def divide(d):\n",
    "    for x in range(1,d):\n",
    "        if dividend % x == 0:\n",
    "            print(x)\n",
    "            List.append(x)\n",
    "    return(List[len(List)-1])\n",
    "            \n",
    "print(divide(dividend))\n"
   ]
  },
  {
   "cell_type": "markdown",
   "id": "cfbe30d4",
   "metadata": {},
   "source": [
    "# Exercise 02\n",
    "- create a dictionary with 6 keys and values of your choice\n",
    "- write a function that takes a dictionary and a value as input and returns whether the value occurs as a key in the dictionary\n",
    "- write a function that takes a dictionary as input, and returns the dictionary but the keys are swapped with their values (resolve the issue if a value occurs twice!)"
   ]
  },
  {
   "cell_type": "code",
   "execution_count": 10,
   "id": "2123f1c6",
   "metadata": {},
   "outputs": [
    {
     "name": "stdout",
     "output_type": "stream",
     "text": [
      "dictionary: dict1\n",
      "value: V1\n",
      "the value doesn't occur as a key in the dictionary.\n"
     ]
    }
   ],
   "source": [
    "dict1 = {\n",
    "    \"K1\":\"V1\",\n",
    "    \"K2\":\"V2\",\n",
    "    \"K3\":\"V3\",\n",
    "    \"K4\":\"V4\",\n",
    "    \"K5\":\"V5\",\n",
    "    \"K6\":\"V6\"}\n",
    "\n",
    "D = input(\"dictionary: \")\n",
    "V = input(\"value: \")\n",
    "a = 0\n",
    "for K in dict1.keys():\n",
    "    if V == K :\n",
    "        a += 1\n",
    "if a >= 1:\n",
    "    print(\"the value occurs as a key in the dictionary.\")\n",
    "else:\n",
    "    print(\"the value doesn't occur as a key in the dictionary.\")"
   ]
  },
  {
   "cell_type": "markdown",
   "id": "b4b4e426",
   "metadata": {},
   "source": [
    "# Exercise 03\n",
    "Define a function that creates a dictionary of the first n fibonacci numbers as values paired with their indices as keys. "
   ]
  },
  {
   "cell_type": "code",
   "execution_count": 6,
   "id": "7845b5a4",
   "metadata": {},
   "outputs": [
    {
     "name": "stdout",
     "output_type": "stream",
     "text": [
      "9\n",
      "{1: 0, 2: 1, 3: 1, 4: 2, 5: 3, 6: 5, 7: 8, 8: 13, 9: 21}\n"
     ]
    }
   ],
   "source": [
    "n = int(input())\n",
    "DictF = {}\n",
    "\n",
    "def Fibonacci(n):\n",
    "    n = int(n)\n",
    "    n1 = 0\n",
    "    n2 = 1\n",
    "    n0 = 0\n",
    "    while n0<n:\n",
    "        n0 += 1\n",
    "        DictF[n0] = n1\n",
    "        m = n1 + n2\n",
    "        n1 = n2\n",
    "        n2 = m\n",
    "\n",
    "Fibonacci(n)\n",
    "print(DictF)"
   ]
  },
  {
   "cell_type": "code",
   "execution_count": null,
   "id": "e92df233",
   "metadata": {},
   "outputs": [],
   "source": []
  }
 ],
 "metadata": {
  "kernelspec": {
   "display_name": "Python 3 (ipykernel)",
   "language": "python",
   "name": "python3"
  },
  "language_info": {
   "codemirror_mode": {
    "name": "ipython",
    "version": 3
   },
   "file_extension": ".py",
   "mimetype": "text/x-python",
   "name": "python",
   "nbconvert_exporter": "python",
   "pygments_lexer": "ipython3",
   "version": "3.8.18"
  }
 },
 "nbformat": 4,
 "nbformat_minor": 5
}
