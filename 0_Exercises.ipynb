{
 "cells": [
  {
   "cell_type": "markdown",
   "id": "529d91ae",
   "metadata": {},
   "source": [
    "# Exercise 00\n",
    "Write a bit of code that prints _Introduction to Programming_ to the console and execute the cell"
   ]
  },
  {
   "cell_type": "code",
   "execution_count": null,
   "id": "98711beb",
   "metadata": {},
   "outputs": [],
   "source": [
    "print(\"Introduction to Programming\")"
   ]
  },
  {
   "cell_type": "markdown",
   "id": "63ad5023",
   "metadata": {},
   "source": [
    "-----------------------------------------------------------------------------\n",
    "# Exercise 01\n",
    "Hello World is traditionally the first program anyone writes. It is\n",
    "very simple and the only thing it should do is print Hello World! to the\n",
    "terminal window.\n",
    "Create a file called HelloWorld.py and edit the contents so it prints Hello World! to the terminal and execute it using the command line."
   ]
  },
  {
   "cell_type": "markdown",
   "id": "a4a7c4c2",
   "metadata": {},
   "source": [
    "-----------------------------------------------------------------------------\n",
    "# Exercise 02\n",
    "Write some code to print your name, email, and age on separate lines. For each element first assign it to a variable and use the variable to print. \n",
    "\n",
    "Bonus: try to create the print statement for all variable in one line of code. (hint: '\\n' is the character for a new line)"
   ]
  },
  {
   "cell_type": "code",
   "execution_count": null,
   "id": "fc8fface",
   "metadata": {},
   "outputs": [],
   "source": [
    "myName = \"my name is ZhaoyueLi\"\n",
    "myEmail = \"my Email is ucbvzl5@ual.ac.uk\"\n",
    "myAge = \"I am 23 years old\"\n",
    "print(myName + \"\\n\" + myEmail + \"\\n\" + myAge)"
   ]
  },
  {
   "cell_type": "markdown",
   "id": "0dd1c1d1",
   "metadata": {},
   "source": [
    "-----------------------------------------------------------------------------\n",
    "# Exercise 03\n",
    "Print the numbers 0, 178, -21, 2938 divided by 49, 436 multiplied with 9948 and 12 to the power of 20\n",
    "\n",
    "(Hint: Look up the documentation of basic arithmetic operators)"
   ]
  },
  {
   "cell_type": "code",
   "execution_count": null,
   "id": "f3d5d009",
   "metadata": {},
   "outputs": [],
   "source": [
    "print(0)\n",
    "print(178)\n",
    "print(-21)\n",
    "print(2938/49)\n",
    "print(436*9948)\n",
    "print(12**20)"
   ]
  },
  {
   "cell_type": "markdown",
   "id": "1f151455",
   "metadata": {},
   "source": [
    "-----------------------------------------------------------------------------\n",
    "# Exercise 04\n",
    "Print sin(200), cos(100), tan($\\pi$/4)\n",
    "\n",
    "(Hint: Look up for how to use trigonometric function, and how to get the value of $\\pi$.)"
   ]
  },
  {
   "cell_type": "code",
   "execution_count": null,
   "id": "d0e37690",
   "metadata": {},
   "outputs": [],
   "source": [
    "import math\n",
    "pi = math.pi\n",
    "print(math.sin(200))\n",
    "print(math.cos(100))\n",
    "print(math.tan(pi/4))"
   ]
  },
  {
   "cell_type": "markdown",
   "id": "9d026820",
   "metadata": {},
   "source": [
    "-----------------------------------------------------------------------------\n",
    "# Exercise 05\n",
    "Write a program to read your first and last names from the console seperately, and then print them on the console together, separated by a space."
   ]
  },
  {
   "cell_type": "code",
   "execution_count": null,
   "id": "4c7217e0",
   "metadata": {},
   "outputs": [],
   "source": [
    "print(\"I'v got something wrong with input order and can't fix it :(\")\n",
    "print(\"is 'a = input(\" \")' right? \")\n",
    "print(\" \")\n",
    "\n",
    "name = \"Zhaoyue Li\"\n",
    "letters = list(name)\n",
    "for l in letters:\n",
    "    print(l, end = \" \")"
   ]
  },
  {
   "cell_type": "markdown",
   "id": "e83fa346",
   "metadata": {},
   "source": [
    "-----------------------------------------------------------------------------\n",
    "# Exercise 06\n",
    "Write a program that determines whether a number given as user input is positive or negative\n",
    " \n",
    "You will need to convert the console input from a string to a number first!"
   ]
  },
  {
   "cell_type": "code",
   "execution_count": null,
   "id": "ecd924c2",
   "metadata": {
    "scrolled": true
   },
   "outputs": [],
   "source": [
    "print(\"I'v got something wrong with input order and can't fix it :(\")\n",
    "num = 2\n",
    "n = int(num)\n",
    "if (n>=0):\n",
    "    print(\"this number is positive\")\n",
    "else:\n",
    "    print(\"this number is negative\")"
   ]
  },
  {
   "cell_type": "markdown",
   "id": "2a192596",
   "metadata": {},
   "source": [
    "-----------------------------------------------------------------------------\n",
    "# Exercise 07\n",
    "Write a program that picks a random number between 1-20 and makes the user guess until they get the number right. Then print a congratulations message\n",
    "- (Find out yourself how to generate a random integer)\n",
    "- Bonus: make the user choose the range within which they have to guess\n",
    "- Bonus: keep track of how many guesses were made and print this at the end"
   ]
  },
  {
   "cell_type": "code",
   "execution_count": null,
   "id": "70358dd3",
   "metadata": {},
   "outputs": [],
   "source": [
    "print(\"I'v got something wrong with input order and can't fix it :(\")\n",
    "import random\n",
    "a = random.randrange(1,21)\n",
    "guess = 8\n",
    "b = int(guess)\n",
    "print(\"and found it impossible to continue without input order from now on :(\")"
   ]
  },
  {
   "cell_type": "markdown",
   "id": "d53b9c07",
   "metadata": {},
   "source": [
    "-----------------------------------------------------------------------------\n",
    "# Exercise 08\n",
    "Ask a sentence as input, then print the words in alphabetical order.\n",
    "Hint: look up how to split up a string"
   ]
  },
  {
   "cell_type": "code",
   "execution_count": null,
   "id": "b6524cf5",
   "metadata": {},
   "outputs": [],
   "source": [
    "print(\"I'v got something wrong with input order and can't fix it :(\")\n",
    "txt = \"print the words in alphabetical order\"\n",
    "x = txt.split(\" \")\n",
    "x.sort()\n",
    "for cha in x:\n",
    "    print(cha)"
   ]
  },
  {
   "cell_type": "markdown",
   "id": "09a7b060",
   "metadata": {},
   "source": [
    "-----------------------------------------------------------------------------\n",
    "# Exercise 09\n",
    "Write a program using for loops to print a christmas tree of x lines high\n",
    "specified by the user.\n",
    "(use for loops)\n",
    "so for instance, a chrismas tree of 4 high should looks like this:\n",
    "\n",
    "```\n",
    "\n",
    "    *\n",
    "   ***\n",
    "  *****\n",
    " *******\n",
    "    |\n",
    "\n",
    "```\n",
    "\n",
    "hint: first combine strings into a variable before printing"
   ]
  },
  {
   "cell_type": "code",
   "execution_count": null,
   "id": "5150f7a4",
   "metadata": {},
   "outputs": [],
   "source": [
    "print(\"I'v got something wrong with input order and can't fix it :(\")\n",
    "lines = \"6\"\n",
    "x = int(lines)\n",
    "for x1 in range(0,(x+1)):\n",
    "    print(\" \" * (x-x1) + \"*\" * (2*x1-1))\n",
    "print(\" \" * (x-1) + \"|\")"
   ]
  },
  {
   "cell_type": "markdown",
   "id": "07f67531",
   "metadata": {},
   "source": [
    "-----------------------------------------------------------------------------\n",
    "# Exercise 10\n",
    "Write a piece of code that prints the first $n$ numbers of the padovan sequence"
   ]
  },
  {
   "cell_type": "code",
   "execution_count": null,
   "id": "d301c61b",
   "metadata": {},
   "outputs": [],
   "source": [
    "print(\"I'v got something wrong with input order and can't fix it :(\")\n",
    "i = 11\n",
    "p1 = 0\n",
    "p2 = 1\n",
    "p3 = 1\n",
    "print(1)\n",
    "print(1)\n",
    "for n in range(i-2):\n",
    "    p = p1 + p2\n",
    "    p1 = p2\n",
    "    p2 = p3\n",
    "    p3 = p\n",
    "    print(p)"
   ]
  }
 ],
 "metadata": {
  "kernelspec": {
   "display_name": "Python 3 (ipykernel)",
   "language": "python",
   "name": "python3"
  },
  "language_info": {
   "codemirror_mode": {
    "name": "ipython",
    "version": 3
   },
   "file_extension": ".py",
   "mimetype": "text/x-python",
   "name": "python",
   "nbconvert_exporter": "python",
   "pygments_lexer": "ipython3",
   "version": "3.11.5"
  }
 },
 "nbformat": 4,
 "nbformat_minor": 5
}
